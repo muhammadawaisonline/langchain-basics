{
 "cells": [
  {
   "cell_type": "code",
   "execution_count": 3,
   "metadata": {},
   "outputs": [
    {
     "data": {
      "text/plain": [
       "[Document(metadata={}, page_content='FOO'),\n",
       " Document(metadata={'Header 1': 'FOO'}, page_content='Some Intro text about Foo.  \\nBar main section Bar Subsection 1 Bar subsection 2'),\n",
       " Document(metadata={'Header 1': 'FOO', 'Header 2': 'Bar main section'}, page_content='Some intro text about bar.'),\n",
       " Document(metadata={'Header 1': 'FOO', 'Header 2': 'Bar main section', 'Header 3': 'Bar Subsection 1'}, page_content='Some text about the first subtopic of bar'),\n",
       " Document(metadata={'Header 1': 'FOO', 'Header 2': 'Bar main section', 'Header 3': 'Bar subsection 2'}, page_content='Some text about the second subsection of Bar'),\n",
       " Document(metadata={'Header 1': 'FOO'}, page_content='Baz'),\n",
       " Document(metadata={'Header 1': 'FOO', 'Header 2': 'Baz'}, page_content='Some text about BAZ'),\n",
       " Document(metadata={'Header 1': 'FOO'}, page_content='Some concluding text about Foo')]"
      ]
     },
     "execution_count": 3,
     "metadata": {},
     "output_type": "execute_result"
    }
   ],
   "source": [
    "from langchain_text_splitters import HTMLHeaderTextSplitter\n",
    "\n",
    "html_string = \"\"\"\n",
    "<!DOCTYPE html>\n",
    "<html>\n",
    "<body>\n",
    "    <div>\n",
    "        <h1>FOO</h1>\n",
    "        <p> Some Intro text about Foo.</p>\n",
    "        <div>\n",
    "            <h2>Bar main section</h2>\n",
    "            <p>Some intro text about bar.</p>\n",
    "            <h3>Bar Subsection 1</h3>\n",
    "            <p>Some text about the first subtopic of bar</p>\n",
    "            <h3>Bar subsection 2</h3>\n",
    "            <p>Some text about the second subsection of Bar</p>\n",
    "        \n",
    "        </div>\n",
    "        <div>\n",
    "            <h2> Baz</h2>\n",
    "            <p>Some text about BAZ</p>\n",
    "        </div>\n",
    "        <br>\n",
    "        <p>Some concluding text about Foo</p>\n",
    "    </div>\n",
    "</body>\n",
    "</html>\n",
    "\"\"\"\n",
    "\n",
    "\n",
    "header_to_split_on = [\n",
    "    (\"h1\", \"Header 1\"),\n",
    "    (\"h2\", \"Header 2\"),\n",
    "    (\"h3\", \"Header 3\"),\n",
    "]\n",
    "\n",
    "html_splitter = HTMLHeaderTextSplitter(header_to_split_on)\n",
    "html_header_split = html_splitter.split_text(html_string)\n",
    "html_header_split"
   ]
  }
 ],
 "metadata": {
  "kernelspec": {
   "display_name": ".venv",
   "language": "python",
   "name": "python3"
  },
  "language_info": {
   "codemirror_mode": {
    "name": "ipython",
    "version": 3
   },
   "file_extension": ".py",
   "mimetype": "text/x-python",
   "name": "python",
   "nbconvert_exporter": "python",
   "pygments_lexer": "ipython3",
   "version": "3.11.4"
  }
 },
 "nbformat": 4,
 "nbformat_minor": 2
}
