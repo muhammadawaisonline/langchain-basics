{
 "cells": [
  {
   "cell_type": "code",
   "execution_count": null,
   "metadata": {},
   "outputs": [
    {
     "data": {
      "text/plain": [
       "[Document(metadata={'source': 'speech.txt'}, page_content='Democracy and Zulifqar Ali Bhutto (Ex Prime minister of Pakistan)\\n\\nDemocracy is our Politics, Islam is our religion, Socialism is our Economy.\\n\\n This statement was dileverd by Ex Pakistani Prime Minister Zulifqar Ali Bhutto. \\n He was the first elected Prime minister of Pakistan. \\n He bexome a prime minister of Pakistan after winning first general elections of Pakistan.\\n')]"
      ]
     },
     "execution_count": 11,
     "metadata": {},
     "output_type": "execute_result"
    }
   ],
   "source": [
    "from langchain_community.document_loaders import TextLoader\n",
    "txt_loader = TextLoader(\"speech.txt\")\n",
    "txt_docs = txt_loader.load()\n",
    "txt_docs "
   ]
  },
  {
   "cell_type": "code",
   "execution_count": 12,
   "metadata": {},
   "outputs": [
    {
     "data": {
      "text/plain": [
       "[Document(metadata={'source': 'speech.txt'}, page_content='Democracy and Zulifqar Ali Bhutto (Ex Prime'),\n",
       " Document(metadata={'source': 'speech.txt'}, page_content='(Ex Prime minister of Pakistan)\\n\\nDemocracy is our'),\n",
       " Document(metadata={'source': 'speech.txt'}, page_content='is our Politics, Islam is our religion, Socialism'),\n",
       " Document(metadata={'source': 'speech.txt'}, page_content='Socialism is our Economy.\\n\\n This statement was'),\n",
       " Document(metadata={'source': 'speech.txt'}, page_content='was dileverd by Ex Pakistani Prime Minister'),\n",
       " Document(metadata={'source': 'speech.txt'}, page_content='Minister Zulifqar Ali Bhutto. \\n He was the first'),\n",
       " Document(metadata={'source': 'speech.txt'}, page_content='the first elected Prime minister of Pakistan. \\n He'),\n",
       " Document(metadata={'source': 'speech.txt'}, page_content='He bexome a prime minister of Pakistan after'),\n",
       " Document(metadata={'source': 'speech.txt'}, page_content='after winning first general elections of'),\n",
       " Document(metadata={'source': 'speech.txt'}, page_content='of Pakistan.')]"
      ]
     },
     "execution_count": 12,
     "metadata": {},
     "output_type": "execute_result"
    }
   ],
   "source": [
    "from langchain_text_splitters import CharacterTextSplitter\n",
    "txt_splitter = CharacterTextSplitter(separator=\" \", chunk_size= 50, chunk_overlap= 10 )\n",
    "txt_splitter_docs = txt_splitter.split_documents(txt_docs)\n",
    "txt_splitter_docs"
   ]
  }
 ],
 "metadata": {
  "kernelspec": {
   "display_name": ".venv",
   "language": "python",
   "name": "python3"
  },
  "language_info": {
   "codemirror_mode": {
    "name": "ipython",
    "version": 3
   },
   "file_extension": ".py",
   "mimetype": "text/x-python",
   "name": "python",
   "nbconvert_exporter": "python",
   "pygments_lexer": "ipython3",
   "version": "3.11.4"
  }
 },
 "nbformat": 4,
 "nbformat_minor": 2
}
