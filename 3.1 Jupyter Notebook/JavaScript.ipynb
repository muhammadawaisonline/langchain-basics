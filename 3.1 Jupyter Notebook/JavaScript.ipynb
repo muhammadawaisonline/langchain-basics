{
 "cells": [
  {
   "cell_type": "code",
   "execution_count": 1,
   "metadata": {},
   "outputs": [
    {
     "data": {
      "application/javascript": [
       "window.alert(\"Printed in the console of the browser.\")\n"
      ],
      "text/plain": [
       "<IPython.core.display.Javascript object>"
      ]
     },
     "metadata": {},
     "output_type": "display_data"
    }
   ],
   "source": [
    "%%javascript\n",
    "window.alert(\"Printed in the console of the browser.\")"
   ]
  },
  {
   "cell_type": "code",
   "execution_count": 49,
   "metadata": {},
   "outputs": [
    {
     "data": {
      "application/javascript": [
       "var x = 5; / #old way to define variable in the javascript\n"
      ],
      "text/plain": [
       "<IPython.core.display.Javascript object>"
      ]
     },
     "metadata": {},
     "output_type": "display_data"
    }
   ],
   "source": [
    "%%javascript\n",
    "var x = 5; / #old way to define variable in the javascript"
   ]
  },
  {
   "cell_type": "code",
   "execution_count": 50,
   "metadata": {},
   "outputs": [
    {
     "data": {
      "application/javascript": [
       "name = \"Muhammad Awais\";\n",
       "x = 10;\n"
      ],
      "text/plain": [
       "<IPython.core.display.Javascript object>"
      ]
     },
     "metadata": {},
     "output_type": "display_data"
    }
   ],
   "source": [
    "%%javascript\n",
    "name = \"Muhammad Awais\";\n",
    "x = 10;"
   ]
  },
  {
   "cell_type": "code",
   "execution_count": 51,
   "metadata": {},
   "outputs": [
    {
     "data": {
      "application/javascript": [
       "let x = 5;\n",
       "x = 6;\n",
       "window.alert(x)\n"
      ],
      "text/plain": [
       "<IPython.core.display.Javascript object>"
      ]
     },
     "metadata": {},
     "output_type": "display_data"
    }
   ],
   "source": [
    "%%javascript\n",
    "let x = 5;\n",
    "x = 6;\n",
    "window.alert(x)\n"
   ]
  },
  {
   "cell_type": "code",
   "execution_count": 52,
   "metadata": {},
   "outputs": [
    {
     "data": {
      "application/javascript": [
       "const my_car = {\n",
       "    brand = \"Honda\"\n",
       "    model = \"odissey\"\n",
       "};\n"
      ],
      "text/plain": [
       "<IPython.core.display.Javascript object>"
      ]
     },
     "metadata": {},
     "output_type": "display_data"
    }
   ],
   "source": [
    "%%javascript\n",
    "const my_car = {\n",
    "    brand = \"Honda\"\n",
    "    model = \"odissey\"\n",
    "};"
   ]
  },
  {
   "cell_type": "code",
   "execution_count": 53,
   "metadata": {},
   "outputs": [
    {
     "data": {
      "application/javascript": [
       "function my_function(parameter){\n",
       "    return (\"Hello\" + parameter);\n",
       "}\n"
      ],
      "text/plain": [
       "<IPython.core.display.Javascript object>"
      ]
     },
     "metadata": {},
     "output_type": "display_data"
    }
   ],
   "source": [
    "%%javascript\n",
    "function my_function(parameter){\n",
    "    return (\"Hello\" + parameter);\n",
    "}"
   ]
  },
  {
   "cell_type": "code",
   "execution_count": 54,
   "metadata": {},
   "outputs": [
    {
     "data": {
      "application/javascript": [
       "my_function(\"Argument\")\n"
      ],
      "text/plain": [
       "<IPython.core.display.Javascript object>"
      ]
     },
     "metadata": {},
     "output_type": "display_data"
    }
   ],
   "source": [
    "%%javascript\n",
    "my_function(\"Argument\")"
   ]
  },
  {
   "cell_type": "code",
   "execution_count": 55,
   "metadata": {},
   "outputs": [
    {
     "data": {
      "application/javascript": [
       "let my_arrow_function = (parameter) => \"Hello \" + parameter; \n"
      ],
      "text/plain": [
       "<IPython.core.display.Javascript object>"
      ]
     },
     "metadata": {},
     "output_type": "display_data"
    }
   ],
   "source": [
    "%%javascript\n",
    "let my_arrow_function = (parameter) => \"Hello \" + parameter; "
   ]
  },
  {
   "cell_type": "code",
   "execution_count": 56,
   "metadata": {},
   "outputs": [
    {
     "data": {
      "application/javascript": [
       "const match_maker = person1 => person2 =>  \"${person1} marries ${person2}\";\n",
       "let new_couple = match_maker(\"Awais\");\n",
       "window.alert(new_couple(\"Hafza\"));\n"
      ],
      "text/plain": [
       "<IPython.core.display.Javascript object>"
      ]
     },
     "metadata": {},
     "output_type": "display_data"
    }
   ],
   "source": [
    "%%javascript\n",
    "const match_maker = person1 => person2 =>  \"${person1} marries ${person2}\";\n",
    "let new_couple = match_maker(\"Awais\");\n",
    "window.alert(new_couple(\"Hafza\"));"
   ]
  },
  {
   "cell_type": "code",
   "execution_count": 57,
   "metadata": {},
   "outputs": [
    {
     "data": {
      "application/javascript": [
       "class Dog{\n",
       "    constructor(species){\n",
       "        this.species = \"Dog\";\n",
       "    }\n",
       "}\n",
       "const fido = new Dog()\n",
       "window.alert(fido.species)\n"
      ],
      "text/plain": [
       "<IPython.core.display.Javascript object>"
      ]
     },
     "metadata": {},
     "output_type": "display_data"
    }
   ],
   "source": [
    "%%javascript\n",
    "class Dog{\n",
    "    constructor(species){\n",
    "        this.species = \"Dog\";\n",
    "    }\n",
    "}\n",
    "const fido = new Dog()\n",
    "window.alert(fido.species)"
   ]
  },
  {
   "cell_type": "markdown",
   "metadata": {},
   "source": [
    "***Object in JavaScript***"
   ]
  },
  {
   "cell_type": "code",
   "execution_count": 66,
   "metadata": {},
   "outputs": [
    {
     "data": {
      "application/javascript": [
       "class Horse {\n",
       "    constructor(species, name, age, color){\n",
       "        this.species = species;\n",
       "        this.name = name;\n",
       "        this.age = age;\n",
       "        this.color = color;\n",
       "    }\n",
       "    greetings(){\n",
       "        return \"This is my name :\" + this.name;\n",
       "    }\n",
       "}\n",
       "cost seabiscuit = new Horse(\"Horse\", \"Jumper\", 3, \"Brown\");\n",
       "seabiscuit.color = \"Brown\";\n",
       "window.alert(seabiscuit.color);\n"
      ],
      "text/plain": [
       "<IPython.core.display.Javascript object>"
      ]
     },
     "metadata": {},
     "output_type": "display_data"
    }
   ],
   "source": [
    "%%javascript\n",
    "class Horse {\n",
    "    constructor(species, name, age, color){\n",
    "        this.species = species;\n",
    "        this.name = name;\n",
    "        this.age = age;\n",
    "        this.color = color;\n",
    "    }\n",
    "    greetings(){\n",
    "        return \"This is my name :\" + this.name;\n",
    "    }\n",
    "}\n",
    "cost seabiscuit = new Horse(\"Horse\", \"Jumper\", 3, \"Brown\");\n",
    "seabiscuit.color = \"Brown\";\n",
    "window.alert(seabiscuit.color);\n"
   ]
  },
  {
   "cell_type": "code",
   "execution_count": 74,
   "metadata": {},
   "outputs": [
    {
     "data": {
      "application/javascript": [
       "class Person{\n",
       "    constructor(fname, lname){\n",
       "        this.first_name = fname;\n",
       "        this.last_name = lname;\n",
       "    }\n",
       "    print_name(){\n",
       "        return first_name \" \" last_name;\n",
       "    }\n",
       "}\n",
       "class Student extends Person{\n",
       "\n",
       "}\n",
       "\n",
       "const person1 = new Student(\"Muhammad Awais\" );\n",
       "window.alert(person1.print_name());\n"
      ],
      "text/plain": [
       "<IPython.core.display.Javascript object>"
      ]
     },
     "metadata": {},
     "output_type": "display_data"
    }
   ],
   "source": [
    "%%javascript\n",
    "class Person{\n",
    "    constructor(fname, lname){\n",
    "        this.first_name = fname;\n",
    "        this.last_name = lname;\n",
    "    }\n",
    "    print_name(){\n",
    "        return first_name \" \" last_name;\n",
    "    }\n",
    "}\n",
    "class Student extends Person{\n",
    "\n",
    "}\n",
    "\n",
    "const person1 = new Student(\"Muhammad Awais\" );\n",
    "window.alert(person1.print_name());\n"
   ]
  },
  {
   "cell_type": "code",
   "execution_count": 75,
   "metadata": {},
   "outputs": [
    {
     "data": {
      "application/javascript": [
       "try{\n",
       "    window.alert(\"All Good!\")\n",
       "} catch(error){\n",
       "    window.alert(\"Acception Occurred\")\n",
       "}\n"
      ],
      "text/plain": [
       "<IPython.core.display.Javascript object>"
      ]
     },
     "metadata": {},
     "output_type": "display_data"
    }
   ],
   "source": [
    "%%javascript\n",
    "try {\n",
    "    window.alert(\"All Good!\")\n",
    "} catch(error){\n",
    "    window.alert(\"Acception Occurred\")\n",
    "}\n"
   ]
  },
  {
   "cell_type": "code",
   "execution_count": 78,
   "metadata": {},
   "outputs": [
    {
     "data": {
      "application/javascript": [
       "x = -1;\n",
       "\n",
       "if ( x < 0){\n",
       "    throw new error (\"Please Enter Positive Integer.\");\n",
       "}\n"
      ],
      "text/plain": [
       "<IPython.core.display.Javascript object>"
      ]
     },
     "metadata": {},
     "output_type": "display_data"
    }
   ],
   "source": [
    "%%javascript\n",
    "x = -1;\n",
    "\n",
    "if ( x < 0){\n",
    "    throw new error (\"Please Enter Positive Integer.\");\n",
    "}"
   ]
  },
  {
   "cell_type": "code",
   "execution_count": 85,
   "metadata": {},
   "outputs": [
    {
     "data": {
      "application/javascript": [
       "let user_name = prompt(\"Enter username: \");\n",
       "window.alert(\"You username is: \" + user_name) \n"
      ],
      "text/plain": [
       "<IPython.core.display.Javascript object>"
      ]
     },
     "metadata": {},
     "output_type": "display_data"
    }
   ],
   "source": [
    "%%javascript\n",
    "let user_name = prompt(\"Enter username: \");\n",
    "window.alert(\"You username is: \" + user_name) "
   ]
  }
 ],
 "metadata": {
  "kernelspec": {
   "display_name": "Python 3 (ipykernel)",
   "language": "python",
   "name": "python3"
  },
  "language_info": {
   "codemirror_mode": {
    "name": "ipython",
    "version": 3
   },
   "file_extension": ".py",
   "mimetype": "text/x-python",
   "name": "python",
   "nbconvert_exporter": "python",
   "pygments_lexer": "ipython3",
   "version": "3.12.2"
  }
 },
 "nbformat": 4,
 "nbformat_minor": 4
}
