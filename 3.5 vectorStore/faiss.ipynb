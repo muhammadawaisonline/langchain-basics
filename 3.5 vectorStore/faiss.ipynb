{
 "cells": [
  {
   "cell_type": "code",
   "execution_count": 60,
   "metadata": {},
   "outputs": [
    {
     "data": {
      "text/plain": [
       "[Document(metadata={'source': 'speech.txt'}, page_content='Democracy and Zulifqar Ali Bhutto (Ex Prime minister of Pakistan)\\n\\nDemocracy is our Politics, Islam is our religion, Socialism is our Economy.\\n\\n The second elected Prime Minister of pakistan was Banzeer Bhutto daughter of zulifqar Ali Bhutto. \\n \\n\\n This statement was dileverd by Ex Pakistani Prime Minister Zulifqar Ali Bhutto. \\n\\n\\n He was the first elected Prime minister of Pakistan. \\n \\n He become a prime minister of Pakistan after winning first general elections of Pakistan.\\n')]"
      ]
     },
     "execution_count": 60,
     "metadata": {},
     "output_type": "execute_result"
    }
   ],
   "source": [
    "from langchain_community.document_loaders import TextLoader\n",
    "from langchain_text_splitters import CharacterTextSplitter\n",
    "from langchain_huggingface import HuggingFaceEmbeddings\n",
    "from langchain_community.vectorstores import FAISS\n",
    "\n",
    "docs_convert  = TextLoader(\"speech.txt\")\n",
    "\n",
    "text_load = docs_convert.load()\n",
    "text_load\n",
    "\n"
   ]
  },
  {
   "cell_type": "code",
   "execution_count": 61,
   "metadata": {},
   "outputs": [
    {
     "data": {
      "text/plain": [
       "[Document(metadata={'source': 'speech.txt'}, page_content='Democracy and Zulifqar Ali Bhutto (Ex Prime minister of Pakistan)\\n\\nDemocracy is our Politics, Islam is our religion, Socialism is our Economy.'),\n",
       " Document(metadata={'source': 'speech.txt'}, page_content='The second elected Prime Minister of pakistan was Banzeer Bhutto daughter of zulifqar Ali Bhutto. \\n \\n\\n This statement was dileverd by Ex Pakistani Prime Minister Zulifqar Ali Bhutto.'),\n",
       " Document(metadata={'source': 'speech.txt'}, page_content='He was the first elected Prime minister of Pakistan. \\n \\n He become a prime minister of Pakistan after winning first general elections of Pakistan.')]"
      ]
     },
     "execution_count": 61,
     "metadata": {},
     "output_type": "execute_result"
    }
   ],
   "source": [
    "splitter = CharacterTextSplitter(chunk_size= 200, chunk_overlap= 20)\n",
    "text_splitter = splitter.split_documents(text_load)\n",
    "text_splitter"
   ]
  },
  {
   "cell_type": "code",
   "execution_count": 62,
   "metadata": {},
   "outputs": [
    {
     "data": {
      "text/plain": [
       "<langchain_community.vectorstores.faiss.FAISS at 0x1b4ae635ed0>"
      ]
     },
     "execution_count": 62,
     "metadata": {},
     "output_type": "execute_result"
    }
   ],
   "source": [
    "embeddings = HuggingFaceEmbeddings(model_name= \"all-MiniLM-L6-v2\")\n",
    "db = FAISS.from_documents(text_splitter, embeddings)\n",
    "db"
   ]
  }
 ],
 "metadata": {
  "kernelspec": {
   "display_name": ".venv",
   "language": "python",
   "name": "python3"
  },
  "language_info": {
   "codemirror_mode": {
    "name": "ipython",
    "version": 3
   },
   "file_extension": ".py",
   "mimetype": "text/x-python",
   "name": "python",
   "nbconvert_exporter": "python",
   "pygments_lexer": "ipython3",
   "version": "3.11.4"
  }
 },
 "nbformat": 4,
 "nbformat_minor": 2
}
