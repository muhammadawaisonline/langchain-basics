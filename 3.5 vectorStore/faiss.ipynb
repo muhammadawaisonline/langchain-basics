{
 "cells": [
  {
   "cell_type": "code",
   "execution_count": 60,
   "metadata": {},
   "outputs": [
    {
     "data": {
      "text/plain": [
       "[Document(metadata={'source': 'speech.txt'}, page_content='Democracy and Zulifqar Ali Bhutto (Ex Prime minister of Pakistan)\\n\\nDemocracy is our Politics, Islam is our religion, Socialism is our Economy.\\n\\n The second elected Prime Minister of pakistan was Banzeer Bhutto daughter of zulifqar Ali Bhutto. \\n \\n\\n This statement was dileverd by Ex Pakistani Prime Minister Zulifqar Ali Bhutto. \\n\\n\\n He was the first elected Prime minister of Pakistan. \\n \\n He become a prime minister of Pakistan after winning first general elections of Pakistan.\\n')]"
      ]
     },
     "execution_count": 60,
     "metadata": {},
     "output_type": "execute_result"
    }
   ],
   "source": [
    "from langchain_community.document_loaders import TextLoader\n",
    "from langchain_text_splitters import CharacterTextSplitter\n",
    "from langchain_huggingface import HuggingFaceEmbeddings\n",
    "from langchain_community.vectorstores import FAISS\n",
    "\n",
    "docs_convert  = TextLoader(\"speech.txt\")\n",
    "\n",
    "text_load = docs_convert.load()\n",
    "text_load\n",
    "\n"
   ]
  },
  {
   "cell_type": "code",
   "execution_count": 61,
   "metadata": {},
   "outputs": [
    {
     "data": {
      "text/plain": [
       "[Document(metadata={'source': 'speech.txt'}, page_content='Democracy and Zulifqar Ali Bhutto (Ex Prime minister of Pakistan)\\n\\nDemocracy is our Politics, Islam is our religion, Socialism is our Economy.'),\n",
       " Document(metadata={'source': 'speech.txt'}, page_content='The second elected Prime Minister of pakistan was Banzeer Bhutto daughter of zulifqar Ali Bhutto. \\n \\n\\n This statement was dileverd by Ex Pakistani Prime Minister Zulifqar Ali Bhutto.'),\n",
       " Document(metadata={'source': 'speech.txt'}, page_content='He was the first elected Prime minister of Pakistan. \\n \\n He become a prime minister of Pakistan after winning first general elections of Pakistan.')]"
      ]
     },
     "execution_count": 61,
     "metadata": {},
     "output_type": "execute_result"
    }
   ],
   "source": [
    "splitter = CharacterTextSplitter(chunk_size= 200, chunk_overlap= 20)\n",
    "text_splitter = splitter.split_documents(text_load)\n",
    "text_splitter"
   ]
  },
  {
   "cell_type": "code",
   "execution_count": 62,
   "metadata": {},
   "outputs": [
    {
     "data": {
      "text/plain": [
       "<langchain_community.vectorstores.faiss.FAISS at 0x1b4ae635ed0>"
      ]
     },
     "execution_count": 62,
     "metadata": {},
     "output_type": "execute_result"
    }
   ],
   "source": [
    "embeddings = HuggingFaceEmbeddings(model_name= \"all-MiniLM-L6-v2\")\n",
    "db = FAISS.from_documents(text_splitter, embeddings)\n",
    "db"
   ]
  },
  {
   "cell_type": "code",
   "execution_count": 63,
   "metadata": {},
   "outputs": [
    {
     "data": {
      "text/plain": [
       "[Document(metadata={'source': 'speech.txt'}, page_content='He was the first elected Prime minister of Pakistan. \\n \\n He become a prime minister of Pakistan after winning first general elections of Pakistan.'),\n",
       " Document(metadata={'source': 'speech.txt'}, page_content='The second elected Prime Minister of pakistan was Banzeer Bhutto daughter of zulifqar Ali Bhutto. \\n \\n\\n This statement was dileverd by Ex Pakistani Prime Minister Zulifqar Ali Bhutto.'),\n",
       " Document(metadata={'source': 'speech.txt'}, page_content='Democracy and Zulifqar Ali Bhutto (Ex Prime minister of Pakistan)\\n\\nDemocracy is our Politics, Islam is our religion, Socialism is our Economy.')]"
      ]
     },
     "execution_count": 63,
     "metadata": {},
     "output_type": "execute_result"
    }
   ],
   "source": [
    "#Quering from our Vector Store data Base\n",
    "query = \"First Elected Prime Minister of Pakistan\"\n",
    "answer= db.similarity_search(query)\n",
    "answer"
   ]
  },
  {
   "cell_type": "code",
   "execution_count": 64,
   "metadata": {},
   "outputs": [
    {
     "data": {
      "text/plain": [
       "'He was the first elected Prime minister of Pakistan. \\n \\n He become a prime minister of Pakistan after winning first general elections of Pakistan.'"
      ]
     },
     "execution_count": 64,
     "metadata": {},
     "output_type": "execute_result"
    }
   ],
   "source": [
    "answer[0].page_content"
   ]
  },
  {
   "cell_type": "code",
   "execution_count": 65,
   "metadata": {},
   "outputs": [
    {
     "data": {
      "text/plain": [
       "[Document(metadata={'source': 'speech.txt'}, page_content='He was the first elected Prime minister of Pakistan. \\n \\n He become a prime minister of Pakistan after winning first general elections of Pakistan.'),\n",
       " Document(metadata={'source': 'speech.txt'}, page_content='The second elected Prime Minister of pakistan was Banzeer Bhutto daughter of zulifqar Ali Bhutto. \\n \\n\\n This statement was dileverd by Ex Pakistani Prime Minister Zulifqar Ali Bhutto.'),\n",
       " Document(metadata={'source': 'speech.txt'}, page_content='Democracy and Zulifqar Ali Bhutto (Ex Prime minister of Pakistan)\\n\\nDemocracy is our Politics, Islam is our religion, Socialism is our Economy.')]"
      ]
     },
     "execution_count": 65,
     "metadata": {},
     "output_type": "execute_result"
    }
   ],
   "source": [
    "retreiver = db.as_retriever()\n",
    "docs = retreiver.invoke(query)\n",
    "docs"
   ]
  },
  {
   "cell_type": "code",
   "execution_count": 66,
   "metadata": {},
   "outputs": [
    {
     "data": {
      "text/plain": [
       "[(Document(metadata={'source': 'speech.txt'}, page_content='He was the first elected Prime minister of Pakistan. \\n \\n He become a prime minister of Pakistan after winning first general elections of Pakistan.'),\n",
       "  0.21267918),\n",
       " (Document(metadata={'source': 'speech.txt'}, page_content='The second elected Prime Minister of pakistan was Banzeer Bhutto daughter of zulifqar Ali Bhutto. \\n \\n\\n This statement was dileverd by Ex Pakistani Prime Minister Zulifqar Ali Bhutto.'),\n",
       "  0.85097474),\n",
       " (Document(metadata={'source': 'speech.txt'}, page_content='Democracy and Zulifqar Ali Bhutto (Ex Prime minister of Pakistan)\\n\\nDemocracy is our Politics, Islam is our religion, Socialism is our Economy.'),\n",
       "  1.1780195)]"
      ]
     },
     "execution_count": 66,
     "metadata": {},
     "output_type": "execute_result"
    }
   ],
   "source": [
    "docs_1 = db.similarity_search_with_score(query)\n",
    "docs_1"
   ]
  },
  {
   "cell_type": "code",
   "execution_count": 67,
   "metadata": {},
   "outputs": [
    {
     "data": {
      "text/plain": [
       "[0.015181386843323708,\n",
       " 0.06688741594552994,\n",
       " 0.0011891628382727504,\n",
       " 0.08437973260879517,\n",
       " -0.014389305375516415,\n",
       " -0.043055128306150436,\n",
       " 0.058757442981004715,\n",
       " -0.0016707098111510277,\n",
       " -0.05405876785516739,\n",
       " 0.01788567565381527,\n",
       " 0.006664360407739878,\n",
       " -0.013701382093131542,\n",
       " 0.13836266100406647,\n",
       " 0.07173889130353928,\n",
       " 0.039259638637304306,\n",
       " 0.0074163381941616535,\n",
       " -0.03185376897454262,\n",
       " 0.02810324914753437,\n",
       " 0.04873998835682869,\n",
       " -0.033328671008348465,\n",
       " 0.010641658678650856,\n",
       " 0.05169166997075081,\n",
       " 0.006462117191404104,\n",
       " -0.03941517695784569,\n",
       " -0.010149543173611164,\n",
       " -0.04688180983066559,\n",
       " 0.022867262363433838,\n",
       " 0.027623288333415985,\n",
       " -0.03017735667526722,\n",
       " -0.021016789600253105,\n",
       " -0.009896150790154934,\n",
       " -0.1178707703948021,\n",
       " 0.0892813578248024,\n",
       " 0.02992066740989685,\n",
       " 0.08471250534057617,\n",
       " 0.022976644337177277,\n",
       " -0.031906191259622574,\n",
       " 0.09246663004159927,\n",
       " -0.05429733172059059,\n",
       " -0.031743016093969345,\n",
       " 0.047981634736061096,\n",
       " -0.033440001308918,\n",
       " 0.04100404679775238,\n",
       " -0.013531479984521866,\n",
       " 0.04131390526890755,\n",
       " -0.0575665608048439,\n",
       " 0.05145932361483574,\n",
       " -0.015570994466543198,\n",
       " 0.015491667203605175,\n",
       " 0.011657373048365116,\n",
       " -0.006822830997407436,\n",
       " 0.07723207026720047,\n",
       " -0.03495575115084648,\n",
       " -0.05467554181814194,\n",
       " 0.1786748617887497,\n",
       " -0.07412508875131607,\n",
       " -0.06264590471982956,\n",
       " -0.016995692625641823,\n",
       " -0.057008057832717896,\n",
       " -0.06241877004504204,\n",
       " -0.07438170164823532,\n",
       " 0.023789800703525543,\n",
       " -0.05873824656009674,\n",
       " -0.05740606039762497,\n",
       " 0.005062167998403311,\n",
       " 0.006375066004693508,\n",
       " 0.029809558764100075,\n",
       " -0.07277055829763412,\n",
       " 0.07088159024715424,\n",
       " -0.043054815381765366,\n",
       " -0.0656549334526062,\n",
       " -0.010458550415933132,\n",
       " -0.022761857137084007,\n",
       " 0.00468904385343194,\n",
       " -0.042253389954566956,\n",
       " -0.1321224868297577,\n",
       " -0.010006645694375038,\n",
       " 0.0761539414525032,\n",
       " -0.06276276707649231,\n",
       " 0.09301570802927017,\n",
       " -0.005367042496800423,\n",
       " -0.02950296923518181,\n",
       " -0.052584126591682434,\n",
       " 0.06192844361066818,\n",
       " -0.03121078573167324,\n",
       " 0.03844776749610901,\n",
       " -0.004626501817256212,\n",
       " 0.012931698001921177,\n",
       " -0.10117047280073166,\n",
       " -0.010733767412602901,\n",
       " 0.10021673142910004,\n",
       " 0.07985133677721024,\n",
       " 0.03830995783209801,\n",
       " 0.05011805519461632,\n",
       " 0.02311588265001774,\n",
       " -0.04761000722646713,\n",
       " 0.006632315460592508,\n",
       " -0.01525074616074562,\n",
       " 0.045692529529333115,\n",
       " 0.09263751655817032,\n",
       " -0.03776973858475685,\n",
       " -0.08366255462169647,\n",
       " -0.021570846438407898,\n",
       " 0.098966583609581,\n",
       " -0.06421174854040146,\n",
       " 0.0032920141238719225,\n",
       " -0.014021389186382294,\n",
       " -0.04691891372203827,\n",
       " -0.00039788184221833944,\n",
       " 0.010180520825088024,\n",
       " -0.01953243277966976,\n",
       " -0.03838757798075676,\n",
       " -0.01226711180061102,\n",
       " -0.019277116283774376,\n",
       " 0.037701476365327835,\n",
       " -0.005534538999199867,\n",
       " -0.06296470016241074,\n",
       " 0.0761839896440506,\n",
       " -0.03567386418581009,\n",
       " -0.027708936482667923,\n",
       " -0.009860648773610592,\n",
       " 0.021961035206913948,\n",
       " -0.005897331051528454,\n",
       " 0.025542080402374268,\n",
       " -0.006807993166148663,\n",
       " -0.0212410856038332,\n",
       " 0.006756307557225227,\n",
       " -1.4109731444343506e-33,\n",
       " -0.061527103185653687,\n",
       " 0.008546896278858185,\n",
       " 0.0625997930765152,\n",
       " 0.06338125467300415,\n",
       " -0.11107245832681656,\n",
       " 0.007033755071461201,\n",
       " 0.05681987479329109,\n",
       " -0.07220578193664551,\n",
       " -0.03826677054166794,\n",
       " -0.035154033452272415,\n",
       " 0.09659651666879654,\n",
       " -0.03873562812805176,\n",
       " 0.08281751722097397,\n",
       " -0.06409391015768051,\n",
       " -0.012217904441058636,\n",
       " -0.08905370533466339,\n",
       " -0.0806955099105835,\n",
       " 0.0015498686116188765,\n",
       " -0.00042561141890473664,\n",
       " 0.005099672358483076,\n",
       " -0.028806405141949654,\n",
       " 0.053720880299806595,\n",
       " 0.049074530601501465,\n",
       " -0.0678652673959732,\n",
       " 0.10907112807035446,\n",
       " -0.01767980121076107,\n",
       " 0.07486040890216827,\n",
       " -0.03784344717860222,\n",
       " 0.09590752422809601,\n",
       " 0.023232607170939445,\n",
       " -0.008462350815534592,\n",
       " -0.0409293994307518,\n",
       " -0.022713158279657364,\n",
       " -0.061522919684648514,\n",
       " -0.009030479937791824,\n",
       " -0.007463441230356693,\n",
       " 0.0003310923930257559,\n",
       " -0.07122808694839478,\n",
       " -0.01683863438665867,\n",
       " -0.027526529505848885,\n",
       " -0.04597875103354454,\n",
       " 0.0254821814596653,\n",
       " 0.011849304661154747,\n",
       " -0.027524800971150398,\n",
       " -0.13258953392505646,\n",
       " -0.0118660693988204,\n",
       " -0.09389371424913406,\n",
       " 0.10417646914720535,\n",
       " 0.029278138652443886,\n",
       " 0.037076596170663834,\n",
       " 0.02753143385052681,\n",
       " 0.009143546223640442,\n",
       " 0.010488728061318398,\n",
       " 0.04267900809645653,\n",
       " -0.04006049409508705,\n",
       " -0.041625313460826874,\n",
       " 0.02307705581188202,\n",
       " -0.08070354163646698,\n",
       " 0.005653292406350374,\n",
       " -0.01127253845334053,\n",
       " 0.028981123119592667,\n",
       " -0.04923619329929352,\n",
       " -0.07234930992126465,\n",
       " 0.034981682896614075,\n",
       " 0.02825893647968769,\n",
       " -0.030031565576791763,\n",
       " -0.02048269473016262,\n",
       " -0.03803494945168495,\n",
       " 0.08942896127700806,\n",
       " -0.004292427562177181,\n",
       " 0.06713015586137772,\n",
       " -0.010345889255404472,\n",
       " -0.02486017346382141,\n",
       " -0.02281186170876026,\n",
       " -0.07167287170886993,\n",
       " 0.04877561703324318,\n",
       " -0.03757340461015701,\n",
       " 0.013455155305564404,\n",
       " -0.0604684017598629,\n",
       " 0.06917732208967209,\n",
       " -0.026772506535053253,\n",
       " 0.07862051576375961,\n",
       " 0.052934348583221436,\n",
       " -0.04368363320827484,\n",
       " -0.00148936512414366,\n",
       " 0.02401415817439556,\n",
       " -0.017522664740681648,\n",
       " -0.02908172644674778,\n",
       " 0.038452666252851486,\n",
       " 0.00881840568035841,\n",
       " 0.016146091744303703,\n",
       " -0.0004776756395585835,\n",
       " 0.04535577818751335,\n",
       " -0.0009877271950244904,\n",
       " -0.040631216019392014,\n",
       " -4.980524148911323e-36,\n",
       " -0.005673954728990793,\n",
       " 0.03503430262207985,\n",
       " 0.04033476114273071,\n",
       " 0.005371874198317528,\n",
       " 0.04327578842639923,\n",
       " -0.018835201859474182,\n",
       " 0.06533429771661758,\n",
       " -0.05733736231923103,\n",
       " -0.006218444090336561,\n",
       " 0.03770707920193672,\n",
       " 0.13238489627838135,\n",
       " 0.03974631428718567,\n",
       " 0.04109930247068405,\n",
       " -0.050386376678943634,\n",
       " 0.05370406061410904,\n",
       " 0.07109993696212769,\n",
       " -0.006500939838588238,\n",
       " 0.018753357231616974,\n",
       " -0.0004854722646996379,\n",
       " 0.06161016598343849,\n",
       " -0.02321968786418438,\n",
       " 0.01951495371758938,\n",
       " -0.04169973358511925,\n",
       " -0.03179096803069115,\n",
       " -0.0743870809674263,\n",
       " -0.02846701256930828,\n",
       " 0.0260685496032238,\n",
       " 0.0036175099667161703,\n",
       " -0.04732633754611015,\n",
       " -0.009679029695689678,\n",
       " -0.0698574036359787,\n",
       " 0.031503647565841675,\n",
       " -0.08576495200395584,\n",
       " 0.02257632464170456,\n",
       " -0.04202890396118164,\n",
       " 0.06325886398553848,\n",
       " -0.058971814811229706,\n",
       " -0.0401628278195858,\n",
       " 0.023348495364189148,\n",
       " 0.11101914197206497,\n",
       " -0.031033620238304138,\n",
       " 0.033301521092653275,\n",
       " 0.083206407725811,\n",
       " 0.011045366525650024,\n",
       " -0.02266676537692547,\n",
       " -0.02015743777155876,\n",
       " 0.08005387336015701,\n",
       " 0.0413072295486927,\n",
       " 0.03902075067162514,\n",
       " -0.1099441722035408,\n",
       " -0.021099738776683807,\n",
       " 0.06092311069369316,\n",
       " 0.027497872710227966,\n",
       " -0.09881848841905594,\n",
       " 0.10689837485551834,\n",
       " -0.017682639881968498,\n",
       " -0.0059193940833210945,\n",
       " 0.07191137224435806,\n",
       " 0.11033249646425247,\n",
       " 0.007198398932814598,\n",
       " 0.002051018178462982,\n",
       " 0.008342795073986053,\n",
       " 0.02611795999109745,\n",
       " -0.028021076694130898,\n",
       " -0.029850631952285767,\n",
       " 0.006904084701091051,\n",
       " -0.0063442266546189785,\n",
       " -0.032430555671453476,\n",
       " 0.11345303803682327,\n",
       " -0.07078623026609421,\n",
       " 0.013626862317323685,\n",
       " 0.009855510666966438,\n",
       " 0.04882510006427765,\n",
       " -0.021965520456433296,\n",
       " -0.02340352162718773,\n",
       " 0.013551387004554272,\n",
       " -0.011678301729261875,\n",
       " 0.16188180446624756,\n",
       " 0.025390934199094772,\n",
       " 0.03872550651431084,\n",
       " -0.0007564459810964763,\n",
       " 0.03784111887216568,\n",
       " -0.06302457302808762,\n",
       " -0.028523288667201996,\n",
       " -0.0568273589015007,\n",
       " -0.0679561197757721,\n",
       " 0.09174445271492004,\n",
       " -0.06280787289142609,\n",
       " 0.005109141115099192,\n",
       " 0.018580114468932152,\n",
       " -0.09290197491645813,\n",
       " -0.014483011327683926,\n",
       " 0.0772709846496582,\n",
       " 0.03398286923766136,\n",
       " 0.0076202587224543095,\n",
       " -1.4834659722851029e-08,\n",
       " -0.10105045884847641,\n",
       " -0.09701848775148392,\n",
       " -0.07409883290529251,\n",
       " 0.017343493178486824,\n",
       " -0.0334598682820797,\n",
       " 0.08240704238414764,\n",
       " 0.023618808016180992,\n",
       " -0.03483161702752113,\n",
       " -0.005749689880758524,\n",
       " -0.08974137902259827,\n",
       " 0.08648048341274261,\n",
       " -0.019864404574036598,\n",
       " -0.025072935968637466,\n",
       " -0.020317750051617622,\n",
       " 0.011523904278874397,\n",
       " -0.012055118568241596,\n",
       " -0.0017274816054850817,\n",
       " 0.09564903378486633,\n",
       " -0.018408825621008873,\n",
       " -0.03956229239702225,\n",
       " -0.03424648568034172,\n",
       " 0.0456252358853817,\n",
       " -0.04752993956208229,\n",
       " -0.02985091507434845,\n",
       " -0.03812804073095322,\n",
       " 0.03139185160398483,\n",
       " 0.021786142140626907,\n",
       " 0.0005021320539526641,\n",
       " -0.011860293336212635,\n",
       " 0.017032714560627937,\n",
       " -0.05066965892910957,\n",
       " 0.0481938011944294,\n",
       " -0.0912732183933258,\n",
       " -0.06117789447307587,\n",
       " -0.03543258085846901,\n",
       " 0.03360305353999138,\n",
       " -0.02574300393462181,\n",
       " -0.009956292808055878,\n",
       " 0.04887980595231056,\n",
       " -0.027727274224162102,\n",
       " -0.014600783586502075,\n",
       " 0.06998932361602783,\n",
       " -0.015729375183582306,\n",
       " 0.032331664115190506,\n",
       " -0.049775559455156326,\n",
       " 0.04277094453573227,\n",
       " -0.0020757499150931835,\n",
       " 0.0026070880703628063,\n",
       " -0.06366739422082901,\n",
       " -0.03697437420487404,\n",
       " -0.005143793299794197,\n",
       " 0.07734977453947067,\n",
       " 0.03113451413810253,\n",
       " -0.0657150149345398,\n",
       " 0.048670146614313126,\n",
       " 0.02507057413458824,\n",
       " 0.05378039926290512,\n",
       " -0.014472177252173424,\n",
       " -0.05557134747505188,\n",
       " 0.02901310659945011,\n",
       " -0.017344145104289055,\n",
       " -0.010907977819442749,\n",
       " 0.07349300384521484,\n",
       " -0.0017514561768621206]"
      ]
     },
     "execution_count": 67,
     "metadata": {},
     "output_type": "execute_result"
    }
   ],
   "source": [
    "embed_query = embeddings.embed_query(query)\n",
    "embed_query"
   ]
  },
  {
   "cell_type": "code",
   "execution_count": 68,
   "metadata": {},
   "outputs": [
    {
     "data": {
      "text/plain": [
       "384"
      ]
     },
     "execution_count": 68,
     "metadata": {},
     "output_type": "execute_result"
    }
   ],
   "source": [
    "len(embed_query)"
   ]
  },
  {
   "cell_type": "code",
   "execution_count": 69,
   "metadata": {},
   "outputs": [
    {
     "data": {
      "text/plain": [
       "[Document(metadata={'source': 'speech.txt'}, page_content='He was the first elected Prime minister of Pakistan. \\n \\n He become a prime minister of Pakistan after winning first general elections of Pakistan.'),\n",
       " Document(metadata={'source': 'speech.txt'}, page_content='The second elected Prime Minister of pakistan was Banzeer Bhutto daughter of zulifqar Ali Bhutto. \\n \\n\\n This statement was dileverd by Ex Pakistani Prime Minister Zulifqar Ali Bhutto.'),\n",
       " Document(metadata={'source': 'speech.txt'}, page_content='Democracy and Zulifqar Ali Bhutto (Ex Prime minister of Pakistan)\\n\\nDemocracy is our Politics, Islam is our religion, Socialism is our Economy.')]"
      ]
     },
     "execution_count": 69,
     "metadata": {},
     "output_type": "execute_result"
    }
   ],
   "source": [
    "answer_1 =  db.similarity_search_by_vector(embed_query)\n",
    "answer_1"
   ]
  },
  {
   "cell_type": "code",
   "execution_count": 70,
   "metadata": {},
   "outputs": [],
   "source": [
    "db.save_local(\"faiss_index\")"
   ]
  },
  {
   "cell_type": "code",
   "execution_count": 79,
   "metadata": {},
   "outputs": [
    {
     "data": {
      "text/plain": [
       "[Document(metadata={'source': 'speech.txt'}, page_content='He was the first elected Prime minister of Pakistan. \\n \\n He become a prime minister of Pakistan after winning first general elections of Pakistan.'),\n",
       " Document(metadata={'source': 'speech.txt'}, page_content='The second elected Prime Minister of pakistan was Banzeer Bhutto daughter of zulifqar Ali Bhutto. \\n \\n\\n This statement was dileverd by Ex Pakistani Prime Minister Zulifqar Ali Bhutto.'),\n",
       " Document(metadata={'source': 'speech.txt'}, page_content='Democracy and Zulifqar Ali Bhutto (Ex Prime minister of Pakistan)\\n\\nDemocracy is our Politics, Islam is our religion, Socialism is our Economy.')]"
      ]
     },
     "execution_count": 79,
     "metadata": {},
     "output_type": "execute_result"
    }
   ],
   "source": [
    "new_db = FAISS.load_local(\"faiss_index\", embeddings, allow_dangerous_deserialization=True)\n",
    "docs= new_db.similarity_search(query)\n",
    "docs"
   ]
  }
 ],
 "metadata": {
  "kernelspec": {
   "display_name": ".venv",
   "language": "python",
   "name": "python3"
  },
  "language_info": {
   "codemirror_mode": {
    "name": "ipython",
    "version": 3
   },
   "file_extension": ".py",
   "mimetype": "text/x-python",
   "name": "python",
   "nbconvert_exporter": "python",
   "pygments_lexer": "ipython3",
   "version": "3.11.4"
  }
 },
 "nbformat": 4,
 "nbformat_minor": 2
}
