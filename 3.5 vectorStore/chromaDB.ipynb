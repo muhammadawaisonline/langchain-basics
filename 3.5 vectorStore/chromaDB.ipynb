{
 "cells": [
  {
   "cell_type": "code",
   "execution_count": 48,
   "metadata": {},
   "outputs": [
    {
     "data": {
      "text/plain": [
       "[Document(metadata={'source': 'speech.txt'}, page_content='Democracy and Zulifqar Ali Bhutto (Ex Prime minister of Pakistan)\\n\\nDemocracy is our Politics, Islam is our religion, Socialism is our Economy.\\n\\n The second elected Prime Minister of pakistan was Banzeer Bhutto daughter of zulifqar Ali Bhutto. \\n \\n\\n This statement was dileverd by Ex Pakistani Prime Minister Zulifqar Ali Bhutto. \\n\\n\\n He was the first elected Prime minister of Pakistan. \\n \\n He become a prime minister of Pakistan after winning first general elections of Pakistan.\\n')]"
      ]
     },
     "execution_count": 48,
     "metadata": {},
     "output_type": "execute_result"
    }
   ],
   "source": [
    "from langchain_community.document_loaders import TextLoader\n",
    "from langchain_text_splitters import RecursiveCharacterTextSplitter\n",
    "from langchain_huggingface import HuggingFaceEmbeddings\n",
    "from langchain_chroma import Chroma\n",
    "\n",
    "text_docs = TextLoader(\"speech.txt\")\n",
    "text_load = text_docs.load()\n",
    "text_load\n"
   ]
  },
  {
   "cell_type": "code",
   "execution_count": 49,
   "metadata": {},
   "outputs": [
    {
     "data": {
      "text/plain": [
       "[Document(metadata={'source': 'speech.txt'}, page_content='Democracy and Zulifqar Ali Bhutto (Ex Prime minister of Pakistan)\\n\\nDemocracy is our Politics, Islam is our religion, Socialism is our Economy.'),\n",
       " Document(metadata={'source': 'speech.txt'}, page_content='The second elected Prime Minister of pakistan was Banzeer Bhutto daughter of zulifqar Ali Bhutto. \\n \\n\\n This statement was dileverd by Ex Pakistani Prime Minister Zulifqar Ali Bhutto.'),\n",
       " Document(metadata={'source': 'speech.txt'}, page_content='He was the first elected Prime minister of Pakistan. \\n \\n He become a prime minister of Pakistan after winning first general elections of Pakistan.')]"
      ]
     },
     "execution_count": 49,
     "metadata": {},
     "output_type": "execute_result"
    }
   ],
   "source": [
    "splitter = RecursiveCharacterTextSplitter(chunk_size= 200, chunk_overlap= 20)\n",
    "text_spliiter = splitter.split_documents(text_load)\n",
    "text_spliiter"
   ]
  },
  {
   "cell_type": "code",
   "execution_count": 50,
   "metadata": {},
   "outputs": [
    {
     "data": {
      "text/plain": [
       "<langchain_chroma.vectorstores.Chroma at 0x19e9c070950>"
      ]
     },
     "execution_count": 50,
     "metadata": {},
     "output_type": "execute_result"
    }
   ],
   "source": [
    "embedding = HuggingFaceEmbeddings(model_name= \"all-MiniLM-L6-v2\")\n",
    "chroma_db = Chroma.from_documents(documents=text_spliiter, embedding=embedding, persist_directory=\"./chroma_db\")\n",
    "chroma_db"
   ]
  }
 ],
 "metadata": {
  "kernelspec": {
   "display_name": ".venv",
   "language": "python",
   "name": "python3"
  },
  "language_info": {
   "codemirror_mode": {
    "name": "ipython",
    "version": 3
   },
   "file_extension": ".py",
   "mimetype": "text/x-python",
   "name": "python",
   "nbconvert_exporter": "python",
   "pygments_lexer": "ipython3",
   "version": "3.11.4"
  }
 },
 "nbformat": 4,
 "nbformat_minor": 2
}
