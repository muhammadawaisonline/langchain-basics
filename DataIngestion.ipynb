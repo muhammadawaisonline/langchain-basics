{
 "cells": [
  {
   "cell_type": "code",
   "execution_count": 4,
   "metadata": {},
   "outputs": [
    {
     "data": {
      "text/plain": [
       "[Document(metadata={'source': 'speech.txt'}, page_content='Democracy is our Politics, Islam is our religion, Socialism is our Economy.')]"
      ]
     },
     "execution_count": 4,
     "metadata": {},
     "output_type": "execute_result"
    }
   ],
   "source": [
    "from langchain_community.document_loaders import TextLoader\n",
    "loader =TextLoader(\"speech.txt\")\n",
    "docs=loader.load()\n",
    "docs"
   ]
  },
  {
   "cell_type": "code",
   "execution_count": 6,
   "metadata": {},
   "outputs": [
    {
     "data": {
      "text/plain": [
       "[Document(metadata={'source': 'attention.pdf', 'page': 0}, page_content='LLM Apps \\nEvaluating App: RAG \\n© 2023 Julio Colomer, AI Accelera '),\n",
       " Document(metadata={'source': 'attention.pdf', 'page': 1}, page_content='Problem and applications \\n●Problem: evaluate a RAG application. \\n●Applications: \\n○Testing and evaluation before launching a RAG application into production. \\n© 2023 Julio Colomer, AI Accelera '),\n",
       " Document(metadata={'source': 'attention.pdf', 'page': 2}, page_content='Solution \\n●QAEval chain. \\n© 2023 Julio Colomer, AI Accelera '),\n",
       " Document(metadata={'source': 'attention.pdf', 'page': 3}, page_content='Notes \\n●Requires the user’s OpenAI API key. \\n© 2023 Julio Colomer, AI Accelera ')]"
      ]
     },
     "execution_count": 6,
     "metadata": {},
     "output_type": "execute_result"
    }
   ],
   "source": [
    "from langchain_community.document_loaders import PyPDFLoader\n",
    "pdf_loader= PyPDFLoader(\"attention.pdf\")\n",
    "docs= pdf_loader.load()\n",
    "docs\n"
   ]
  },
  {
   "cell_type": "code",
   "execution_count": 8,
   "metadata": {},
   "outputs": [
    {
     "data": {
      "text/plain": [
       "langchain_core.documents.base.Document"
      ]
     },
     "execution_count": 8,
     "metadata": {},
     "output_type": "execute_result"
    }
   ],
   "source": [
    "type(docs[0])\n"
   ]
  },
  {
   "cell_type": "code",
   "execution_count": null,
   "metadata": {},
   "outputs": [],
   "source": [
    "from langchain_community.document_loaders import WebBaseLoader\n",
    "web_loader = WebBaseLoader()"
   ]
  }
 ],
 "metadata": {
  "kernelspec": {
   "display_name": ".venv",
   "language": "python",
   "name": "python3"
  },
  "language_info": {
   "codemirror_mode": {
    "name": "ipython",
    "version": 3
   },
   "file_extension": ".py",
   "mimetype": "text/x-python",
   "name": "python",
   "nbconvert_exporter": "python",
   "pygments_lexer": "ipython3",
   "version": "3.11.4"
  }
 },
 "nbformat": 4,
 "nbformat_minor": 2
}
