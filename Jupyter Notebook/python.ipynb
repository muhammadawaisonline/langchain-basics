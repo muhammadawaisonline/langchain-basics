{
 "cells": [
  {
   "cell_type": "markdown",
   "metadata": {},
   "source": []
  },
  {
   "cell_type": "markdown",
   "metadata": {},
   "source": [
    "**Variables**"
   ]
  },
  {
   "cell_type": "code",
   "execution_count": 125,
   "metadata": {},
   "outputs": [
    {
     "name": "stdout",
     "output_type": "stream",
     "text": [
      "Muhammad Awais\n"
     ]
    }
   ],
   "source": [
    "name: str = \"Muhammad Awais\"\n",
    "print(name)"
   ]
  },
  {
   "cell_type": "code",
   "execution_count": 126,
   "metadata": {},
   "outputs": [
    {
     "name": "stdout",
     "output_type": "stream",
     "text": [
      "Awais\n"
     ]
    }
   ],
   "source": [
    "name2:str = str(\"Awais\")\n",
    "print(name2)"
   ]
  },
  {
   "cell_type": "code",
   "execution_count": 127,
   "metadata": {},
   "outputs": [
    {
     "name": "stdout",
     "output_type": "stream",
     "text": [
      "Ahsan\n"
     ]
    }
   ],
   "source": [
    "bro, elder, older = \"Awais\", \"Bilal\", \"Ahsan\"\n",
    "print(older)"
   ]
  },
  {
   "cell_type": "code",
   "execution_count": 128,
   "metadata": {},
   "outputs": [
    {
     "name": "stdout",
     "output_type": "stream",
     "text": [
      "Mohsin\n"
     ]
    }
   ],
   "source": [
    "a, b, c, = \"Bilal\", \"Awais\", \"Umair\"\n",
    "name:str = [\"Ahsan\", \"Mohsin\", \"Talha\"]\n",
    "sibling, elder, younger = name\n",
    "\n",
    "print(elder)\n",
    "\n"
   ]
  },
  {
   "cell_type": "markdown",
   "metadata": {},
   "source": [
    "***Lists In Python***"
   ]
  },
  {
   "cell_type": "code",
   "execution_count": 129,
   "metadata": {},
   "outputs": [
    {
     "name": "stdout",
     "output_type": "stream",
     "text": [
      "[2]\n"
     ]
    }
   ],
   "source": [
    "number:int = [0, 1, 2, 3, 4, 5, 6, 7, 8 ]\n",
    "\n",
    "print(number[2:3])\n"
   ]
  },
  {
   "cell_type": "code",
   "execution_count": 130,
   "metadata": {},
   "outputs": [
    {
     "name": "stdout",
     "output_type": "stream",
     "text": [
      "[1, 2, 3, 4, 5, 6, 7, 8]\n",
      "[0, 1, 2, 3, 4, 5]\n"
     ]
    }
   ],
   "source": [
    "print(number[1: ])\n",
    "print(number[ :6])"
   ]
  },
  {
   "cell_type": "code",
   "execution_count": 131,
   "metadata": {},
   "outputs": [
    {
     "name": "stdout",
     "output_type": "stream",
     "text": [
      "7\n"
     ]
    }
   ],
   "source": [
    "print(number[-2])"
   ]
  },
  {
   "cell_type": "code",
   "execution_count": 132,
   "metadata": {},
   "outputs": [
    {
     "name": "stdout",
     "output_type": "stream",
     "text": [
      "[0, 1, 2, 3, 4, 5, 6, 7, 'awais', 8]\n"
     ]
    }
   ],
   "source": [
    "number.insert(8, \"awais\")\n",
    "print(number)"
   ]
  },
  {
   "cell_type": "code",
   "execution_count": 133,
   "metadata": {},
   "outputs": [
    {
     "name": "stdout",
     "output_type": "stream",
     "text": [
      "[0, 1, 2, 3, 4, 5, 6, 7, 'awais', 8, 10]\n"
     ]
    }
   ],
   "source": [
    "number.append(10)\n",
    "print(number)"
   ]
  },
  {
   "cell_type": "code",
   "execution_count": 134,
   "metadata": {},
   "outputs": [
    {
     "ename": "ValueError",
     "evalue": "list.remove(x): x not in list",
     "output_type": "error",
     "traceback": [
      "\u001b[1;31m---------------------------------------------------------------------------\u001b[0m",
      "\u001b[1;31mValueError\u001b[0m                                Traceback (most recent call last)",
      "Cell \u001b[1;32mIn[134], line 1\u001b[0m\n\u001b[1;32m----> 1\u001b[0m \u001b[43mnumber\u001b[49m\u001b[38;5;241;43m.\u001b[39;49m\u001b[43mremove\u001b[49m\u001b[43m(\u001b[49m\u001b[38;5;124;43m\"\u001b[39;49m\u001b[38;5;124;43mbilal\u001b[39;49m\u001b[38;5;124;43m\"\u001b[39;49m\u001b[43m)\u001b[49m\n\u001b[0;32m      2\u001b[0m \u001b[38;5;28mprint\u001b[39m(number)\n",
      "\u001b[1;31mValueError\u001b[0m: list.remove(x): x not in list"
     ]
    }
   ],
   "source": [
    "number.remove(\"bilal\")\n",
    "print(number)"
   ]
  },
  {
   "cell_type": "code",
   "execution_count": 117,
   "metadata": {},
   "outputs": [
    {
     "name": "stdout",
     "output_type": "stream",
     "text": [
      "[8, 10]\n"
     ]
    }
   ],
   "source": [
    "print(number)"
   ]
  },
  {
   "cell_type": "code",
   "execution_count": 121,
   "metadata": {},
   "outputs": [
    {
     "name": "stdout",
     "output_type": "stream",
     "text": [
      "[8, 10, [1, 2, 3, 4, 5, 6, 7], range(0, 7), range(0, 7)]\n"
     ]
    }
   ],
   "source": [
    "number.append(range(7))\n",
    "print(number)"
   ]
  },
  {
   "cell_type": "code",
   "execution_count": 140,
   "metadata": {},
   "outputs": [
    {
     "name": "stdout",
     "output_type": "stream",
     "text": [
      "[0, 1, 2, 3, 4, 5, 6, 7, 'awais', 8, 10]\n"
     ]
    }
   ],
   "source": [
    "for n in number:\n",
    "    del n\n",
    "print(number)"
   ]
  },
  {
   "cell_type": "code",
   "execution_count": 148,
   "metadata": {},
   "outputs": [
    {
     "name": "stdout",
     "output_type": "stream",
     "text": [
      "0, 1, 2, 3, 4, 5, 6, 7, 8, 9, 10, "
     ]
    }
   ],
   "source": [
    "for i in range(len(number)):\n",
    "    print(i, end= \", \")"
   ]
  },
  {
   "cell_type": "code",
   "execution_count": 152,
   "metadata": {},
   "outputs": [
    {
     "data": {
      "text/plain": [
       "1"
      ]
     },
     "execution_count": 152,
     "metadata": {},
     "output_type": "execute_result"
    }
   ],
   "source": [
    "t1 = (0, 1, 2, 3, 4, 5, 6, 7, 8, 9)\n",
    "len(t1)\n",
    "\n",
    "t2 = (0,)\n",
    "\n",
    "len(t2)\n",
    "\n"
   ]
  },
  {
   "cell_type": "code",
   "execution_count": 153,
   "metadata": {},
   "outputs": [],
   "source": [
    "myDict = {\n",
    "    \"name\": \"Awais\",\n",
    "    \"sirname\": \"Shafqat\"\n",
    "}"
   ]
  },
  {
   "cell_type": "code",
   "execution_count": 158,
   "metadata": {},
   "outputs": [
    {
     "name": "stdout",
     "output_type": "stream",
     "text": [
      "Hello Bilal\n"
     ]
    }
   ],
   "source": [
    "def my_function(parameter:str):\n",
    "    print(\"Hello\", parameter)\n",
    "\n",
    "my_function(\"Bilal\")\n"
   ]
  },
  {
   "cell_type": "code",
   "execution_count": 163,
   "metadata": {},
   "outputs": [
    {
     "name": "stdout",
     "output_type": "stream",
     "text": [
      "ID Data:Muhammad Awais\n"
     ]
    }
   ],
   "source": [
    "def person(**individual):\n",
    "    print(\"ID Data:\" +individual[\"name\"])\n",
    "person(name = \"Muhammad Awais\", sirname = \"Shafqat\")\n",
    "\n"
   ]
  },
  {
   "cell_type": "code",
   "execution_count": 168,
   "metadata": {},
   "outputs": [
    {
     "name": "stdout",
     "output_type": "stream",
     "text": [
      "('Awais', 'Bilal', 'Ahsan', 'Mohsin', 'Umair', 'Talha')\n",
      "('Awais',)\n"
     ]
    }
   ],
   "source": [
    "def students(*name:str):\n",
    "    print(name)\n",
    "students(\"Awais\", \"Bilal\", \"Ahsan\", \"Mohsin\", \"Umair\", \"Talha\")\n",
    "students(\"Awais\")\n"
   ]
  },
  {
   "cell_type": "code",
   "execution_count": 171,
   "metadata": {},
   "outputs": [
    {
     "name": "stdout",
     "output_type": "stream",
     "text": [
      "Hello Muhammad Awais\n"
     ]
    }
   ],
   "source": [
    "x = lambda parameter: \"Hello \" + parameter\n",
    "print(x(\"Muhammad Awais\"))"
   ]
  },
  {
   "cell_type": "code",
   "execution_count": 177,
   "metadata": {},
   "outputs": [],
   "source": [
    "def match_maker(person1:str):\n",
    "    return lambda person2: person2 + \" marries \" + person1\n"
   ]
  },
  {
   "cell_type": "code",
   "execution_count": 178,
   "metadata": {},
   "outputs": [],
   "source": [
    "new_couple = match_maker(\"Hurmain\")"
   ]
  },
  {
   "cell_type": "code",
   "execution_count": 180,
   "metadata": {},
   "outputs": [
    {
     "data": {
      "text/plain": [
       "'Elizbith marries Hurmain'"
      ]
     },
     "execution_count": 180,
     "metadata": {},
     "output_type": "execute_result"
    }
   ],
   "source": [
    "new_couple(\"Elizbith\")"
   ]
  },
  {
   "cell_type": "code",
   "execution_count": 183,
   "metadata": {},
   "outputs": [
    {
     "data": {
      "text/plain": [
       "<function __main__.match_maker.<locals>.<lambda>(person2)>"
      ]
     },
     "execution_count": 183,
     "metadata": {},
     "output_type": "execute_result"
    }
   ],
   "source": [
    "def match_maker_02(person3:str):\n",
    "    def second_person(person4:str):\n",
    "        print(person3 + \" marries \" +person4)\n",
    "        return second_person(\"Shanzay\")\n",
    "\n",
    "match_maker(\"Usman\")"
   ]
  },
  {
   "cell_type": "code",
   "execution_count": 185,
   "metadata": {},
   "outputs": [],
   "source": [
    "class Dog:\n",
    "    species = \"dog\""
   ]
  },
  {
   "cell_type": "code",
   "execution_count": 187,
   "metadata": {},
   "outputs": [
    {
     "name": "stdout",
     "output_type": "stream",
     "text": [
      "dog\n"
     ]
    }
   ],
   "source": [
    "fido = Dog()\n",
    "animal = fido.species\n",
    "print(animal)"
   ]
  },
  {
   "cell_type": "code",
   "execution_count": 201,
   "metadata": {},
   "outputs": [],
   "source": [
    "class Cat:\n",
    "    def __init__(self, species:str, age:int, color:str):\n",
    "        self.species = species\n",
    "        self.age = age\n",
    "        self.color = color\n",
    "    def __str__(self):\n",
    "        return f\"Species: {self.species},  Age: {self.age},  Color:  {self.color}\""
   ]
  },
  {
   "cell_type": "code",
   "execution_count": 203,
   "metadata": {},
   "outputs": [
    {
     "name": "stdout",
     "output_type": "stream",
     "text": [
      "Species: cat,  Age: 2,  Color:  white\n"
     ]
    }
   ],
   "source": [
    "kitty = Cat(\"cat\", 2, \"white\")\n",
    "print(kitty)"
   ]
  },
  {
   "cell_type": "code",
   "execution_count": 209,
   "metadata": {},
   "outputs": [],
   "source": [
    "class Horse:\n",
    "    def __init__(self, species, name, age, color):\n",
    "        self.species = species\n",
    "        self.name = name\n",
    "        self.age = age\n",
    "        self.color = color\n",
    "    \n",
    "    def greetings(self):\n",
    "        print(f\"Hello my name is {self.name}\")\n",
    "    \n",
    "    def __str__(self):\n",
    "        return f\"{self.species} has {self.color} color with {self.age} years age.\"\n",
    "\n"
   ]
  },
  {
   "cell_type": "code",
   "execution_count": 213,
   "metadata": {},
   "outputs": [
    {
     "name": "stdout",
     "output_type": "stream",
     "text": [
      "Horse has Brown color with 19 years age.\n",
      "Hello my name is Cow\n"
     ]
    }
   ],
   "source": [
    "species = Horse(\"Horse\",\"Cow\", 19, \"Brown\")\n",
    "print(species)\n",
    "species.greetings()\n"
   ]
  },
  {
   "cell_type": "code",
   "execution_count": 215,
   "metadata": {},
   "outputs": [
    {
     "data": {
      "text/plain": [
       "'Seabiscuit'"
      ]
     },
     "execution_count": 215,
     "metadata": {},
     "output_type": "execute_result"
    }
   ],
   "source": [
    "seabiscuit = Horse(\"Horse\", \"Seabiscuit\", 4, \"Black\")\n",
    "\n",
    "seabiscuit.name"
   ]
  },
  {
   "cell_type": "code",
   "execution_count": 217,
   "metadata": {},
   "outputs": [
    {
     "name": "stdout",
     "output_type": "stream",
     "text": [
      "Black\n"
     ]
    }
   ],
   "source": [
    "print(seabiscuit.color)"
   ]
  },
  {
   "cell_type": "code",
   "execution_count": 218,
   "metadata": {},
   "outputs": [
    {
     "name": "stdout",
     "output_type": "stream",
     "text": [
      "Muhammad Awais\n"
     ]
    }
   ],
   "source": [
    "class Person:\n",
    "    def __init__(self, fname, lname):\n",
    "        self.fname = fname\n",
    "        self.lname = lname\n",
    "    def printname(self):\n",
    "        print(self.fname, self.lname)\n",
    "class Student(Person):\n",
    "    pass\n",
    "name = Student(\"Muhammad\", \"Awais\")\n",
    "name.printname()"
   ]
  },
  {
   "cell_type": "code",
   "execution_count": 2,
   "metadata": {},
   "outputs": [
    {
     "name": "stdout",
     "output_type": "stream",
     "text": [
      "All Good!\n"
     ]
    }
   ],
   "source": [
    "try:\n",
    "    print(\"All Good!\")\n",
    "except:\n",
    "    print(\"Error Occured.\")\n",
    "    "
   ]
  },
  {
   "cell_type": "code",
   "execution_count": 4,
   "metadata": {},
   "outputs": [
    {
     "ename": "Exception",
     "evalue": "Enter Positive Integer.",
     "output_type": "error",
     "traceback": [
      "\u001b[1;31m---------------------------------------------------------------------------\u001b[0m",
      "\u001b[1;31mException\u001b[0m                                 Traceback (most recent call last)",
      "Cell \u001b[1;32mIn[4], line 3\u001b[0m\n\u001b[0;32m      1\u001b[0m x: \u001b[38;5;28mint\u001b[39m \u001b[38;5;241m=\u001b[39m \u001b[38;5;241m-\u001b[39m\u001b[38;5;241m1\u001b[39m\n\u001b[0;32m      2\u001b[0m \u001b[38;5;28;01mif\u001b[39;00m x \u001b[38;5;241m<\u001b[39m \u001b[38;5;241m0\u001b[39m:\n\u001b[1;32m----> 3\u001b[0m     \u001b[38;5;28;01mraise\u001b[39;00m \u001b[38;5;167;01mException\u001b[39;00m(\u001b[38;5;124m\"\u001b[39m\u001b[38;5;124mEnter Positive Integer.\u001b[39m\u001b[38;5;124m\"\u001b[39m)\n",
      "\u001b[1;31mException\u001b[0m: Enter Positive Integer."
     ]
    }
   ],
   "source": [
    "x: int = -1\n",
    "if x < 0:\n",
    "    raise Exception(\"Enter Positive Integer.\")"
   ]
  },
  {
   "cell_type": "markdown",
   "metadata": {},
   "source": [
    "How to get User Input"
   ]
  },
  {
   "cell_type": "code",
   "execution_count": 5,
   "metadata": {},
   "outputs": [
    {
     "name": "stdout",
     "output_type": "stream",
     "text": [
      "Muhammad Awais\n"
     ]
    }
   ],
   "source": [
    "username = input(\"Enter your name: \")\n",
    "print(username)"
   ]
  }
 ],
 "metadata": {
  "kernelspec": {
   "display_name": "myenv",
   "language": "python",
   "name": "python3"
  },
  "language_info": {
   "codemirror_mode": {
    "name": "ipython",
    "version": 3
   },
   "file_extension": ".py",
   "mimetype": "text/x-python",
   "name": "python",
   "nbconvert_exporter": "python",
   "pygments_lexer": "ipython3",
   "version": "3.12.2"
  }
 },
 "nbformat": 4,
 "nbformat_minor": 2
}
